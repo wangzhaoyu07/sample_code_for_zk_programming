{
 "cells": [
  {
   "cell_type": "code",
   "execution_count": 1,
   "metadata": {},
   "outputs": [],
   "source": [
    "import pandas as pd\n",
    "import json\n",
    "# Train sklearn model, using logistic regression\n",
    "from sklearn.linear_model import LinearRegression\n",
    "from sklearn.model_selection import train_test_split\n",
    "import copy\n",
    "import os"
   ]
  },
  {
   "cell_type": "code",
   "execution_count": 2,
   "metadata": {},
   "outputs": [],
   "source": [
    "data = pd.read_csv('ice_cream_sales.csv')\n",
    "\n",
    "# delete the Unnamed: 0 column\n",
    "columns = data.columns\n",
    "\n",
    "np_data = data.to_numpy()"
   ]
  },
  {
   "cell_type": "code",
   "execution_count": 3,
   "metadata": {},
   "outputs": [],
   "source": [
    "feature_names = ['temp','weekday','cost','price','sales']"
   ]
  },
  {
   "cell_type": "code",
   "execution_count": 4,
   "metadata": {},
   "outputs": [
    {
     "name": "stdout",
     "output_type": "stream",
     "text": [
      "weights: [ 0.10761511 -2.22225092  1.6298911 ]\n",
      "bias: 191.87309979189126\n"
     ]
    }
   ],
   "source": [
    "# model_y\n",
    "feature_names = ['weekday','cost','price']\n",
    "features = data[feature_names]\n",
    "target = data['sales']\n",
    "X_train_y, X_test_y, y_train_y, y_test_y = train_test_split(features, target, test_size=0.2, random_state=0)\n",
    "model_y = LinearRegression()\n",
    "model_y.fit(X_train_y, y_train_y)\n",
    "\n",
    "# save model\n",
    "weights_y = model_y.coef_\n",
    "bias_y = model_y.intercept_\n",
    "\n",
    "print('weights:', weights_y)\n",
    "print('bias:', bias_y)\n",
    "\n",
    "with open(f\"weights/model_y.txt\", \"w\") as f:\n",
    "    f.write(str(bias_y) + \"\\n\")\n",
    "    for weight in weights_y:\n",
    "        f.write(str(weight) + \"\\n\")"
   ]
  },
  {
   "cell_type": "code",
   "execution_count": 5,
   "metadata": {},
   "outputs": [
    {
     "name": "stdout",
     "output_type": "stream",
     "text": [
      "weights: [-0.00970144  0.05445412 -0.02720736]\n",
      "bias: 24.18191062532274\n"
     ]
    }
   ],
   "source": [
    "# model_t\n",
    "feature_names = ['weekday','cost','price']\n",
    "features = data[feature_names]\n",
    "target = data['temp']\n",
    "X_train_t, X_test_t, y_train_t, y_test_t = train_test_split(features, target, test_size=0.2, random_state=0)\n",
    "model_t = LinearRegression()\n",
    "model_t.fit(X_train_t, y_train_t)\n",
    "\n",
    "# save model\n",
    "weights_t = model_t.coef_\n",
    "bias_t = model_t.intercept_\n",
    "\n",
    "print('weights:', weights_t)\n",
    "print('bias:', bias_t)\n",
    "\n",
    "with open(f\"weights/model_t.txt\", \"w\") as f:\n",
    "    f.write(str(bias_t) + \"\\n\")\n",
    "    for weight in weights_t:\n",
    "        f.write(str(weight) + \"\\n\")"
   ]
  },
  {
   "cell_type": "code",
   "execution_count": 10,
   "metadata": {},
   "outputs": [
    {
     "name": "stdout",
     "output_type": "stream",
     "text": [
      "weights: [1.82682488]\n",
      "bias: 1.4631376953484042e-14\n"
     ]
    }
   ],
   "source": [
    "# model_f\n",
    "predicted_outcome = model_y.predict(X_train_y)\n",
    "outcome_residual = y_train_y - predicted_outcome\n",
    "\n",
    "predicted_treatment = model_t.predict(X_train_t)\n",
    "treatment_residual = y_train_t - predicted_treatment\n",
    "\n",
    "model_f = LinearRegression()\n",
    "model_f.fit(treatment_residual.values.reshape(-1, 1), outcome_residual)\n",
    "\n",
    "# save model\n",
    "weights_f = model_f.coef_\n",
    "bias_f = model_f.intercept_\n",
    "\n",
    "print('weights:', weights_f)\n",
    "print('bias:', bias_f)\n",
    "\n",
    "with open(f\"weights/model_f.txt\", \"w\") as f:\n",
    "    f.write(str(bias_f) + \"\\n\")\n",
    "    for weight in weights_f:\n",
    "        f.write(str(weight) + \"\\n\")\n",
    "        "
   ]
  },
  {
   "cell_type": "code",
   "execution_count": 9,
   "metadata": {},
   "outputs": [
    {
     "data": {
      "text/plain": [
       "array([1.82682488])"
      ]
     },
     "execution_count": 9,
     "metadata": {},
     "output_type": "execute_result"
    }
   ],
   "source": [
    "model_f.coef_"
   ]
  },
  {
   "cell_type": "code",
   "execution_count": null,
   "metadata": {},
   "outputs": [],
   "source": [
    "# model_y\n",
    "feature_names = ['weekday','cost','price']\n",
    "features = data[feature_names]\n",
    "target = data['sales']\n",
    "X_train, X_test, y_train, y_test = train_test_split(features, target, test_size=0.2, random_state=0)\n",
    "model = LinearRegression()\n",
    "model.fit(X_train, y_train)\n",
    "\n",
    "# save model\n",
    "weights = model.coef_\n",
    "bias = model.intercept_\n",
    "\n",
    "print('weights:', weights)\n",
    "print('bias:', bias)\n",
    "\n",
    "with open(f\"weights/model_y.txt\", \"w\") as f:\n",
    "    f.write(str(bias) + \"\\n\")\n",
    "    for weight in weights:\n",
    "        f.write(str(weight) + \"\\n\")"
   ]
  },
  {
   "cell_type": "code",
   "execution_count": 57,
   "metadata": {},
   "outputs": [
    {
     "name": "stdout",
     "output_type": "stream",
     "text": [
      "['X1', 'X2', 'X3', 'X4', 'X5', 'X6', 'X7', 'X8', 'X9', 'X10', 'X11', 'X12', 'X13', 'X14', 'X15', 'X16', 'X17', 'X18', 'X19', 'X20', 'X21', 'X22', 'X23', 'Y']\n"
     ]
    },
    {
     "name": "stderr",
     "output_type": "stream",
     "text": [
      "/export/d1/zwangjz/anaconda3/envs/lewis/lib/python3.9/site-packages/sklearn/linear_model/_logistic.py:469: ConvergenceWarning: lbfgs failed to converge (status=1):\n",
      "STOP: TOTAL NO. of ITERATIONS REACHED LIMIT.\n",
      "\n",
      "Increase the number of iterations (max_iter) or scale the data as shown in:\n",
      "    https://scikit-learn.org/stable/modules/preprocessing.html\n",
      "Please also refer to the documentation for alternative solver options:\n",
      "    https://scikit-learn.org/stable/modules/linear_model.html#logistic-regression\n",
      "  n_iter_i = _check_optimize_result(\n",
      "/export/d1/zwangjz/anaconda3/envs/lewis/lib/python3.9/site-packages/sklearn/linear_model/_logistic.py:469: ConvergenceWarning: lbfgs failed to converge (status=1):\n",
      "STOP: TOTAL NO. of ITERATIONS REACHED LIMIT.\n",
      "\n",
      "Increase the number of iterations (max_iter) or scale the data as shown in:\n",
      "    https://scikit-learn.org/stable/modules/preprocessing.html\n",
      "Please also refer to the documentation for alternative solver options:\n",
      "    https://scikit-learn.org/stable/modules/linear_model.html#logistic-regression\n",
      "  n_iter_i = _check_optimize_result(\n",
      "/export/d1/zwangjz/anaconda3/envs/lewis/lib/python3.9/site-packages/sklearn/linear_model/_logistic.py:469: ConvergenceWarning: lbfgs failed to converge (status=1):\n",
      "STOP: TOTAL NO. of ITERATIONS REACHED LIMIT.\n",
      "\n",
      "Increase the number of iterations (max_iter) or scale the data as shown in:\n",
      "    https://scikit-learn.org/stable/modules/preprocessing.html\n",
      "Please also refer to the documentation for alternative solver options:\n",
      "    https://scikit-learn.org/stable/modules/linear_model.html#logistic-regression\n",
      "  n_iter_i = _check_optimize_result(\n",
      "/export/d1/zwangjz/anaconda3/envs/lewis/lib/python3.9/site-packages/sklearn/linear_model/_logistic.py:469: ConvergenceWarning: lbfgs failed to converge (status=1):\n",
      "STOP: TOTAL NO. of ITERATIONS REACHED LIMIT.\n",
      "\n",
      "Increase the number of iterations (max_iter) or scale the data as shown in:\n",
      "    https://scikit-learn.org/stable/modules/preprocessing.html\n",
      "Please also refer to the documentation for alternative solver options:\n",
      "    https://scikit-learn.org/stable/modules/linear_model.html#logistic-regression\n",
      "  n_iter_i = _check_optimize_result(\n",
      "/export/d1/zwangjz/anaconda3/envs/lewis/lib/python3.9/site-packages/sklearn/linear_model/_logistic.py:469: ConvergenceWarning: lbfgs failed to converge (status=1):\n",
      "STOP: TOTAL NO. of ITERATIONS REACHED LIMIT.\n",
      "\n",
      "Increase the number of iterations (max_iter) or scale the data as shown in:\n",
      "    https://scikit-learn.org/stable/modules/preprocessing.html\n",
      "Please also refer to the documentation for alternative solver options:\n",
      "    https://scikit-learn.org/stable/modules/linear_model.html#logistic-regression\n",
      "  n_iter_i = _check_optimize_result(\n",
      "/export/d1/zwangjz/anaconda3/envs/lewis/lib/python3.9/site-packages/sklearn/linear_model/_logistic.py:469: ConvergenceWarning: lbfgs failed to converge (status=1):\n",
      "STOP: TOTAL NO. of ITERATIONS REACHED LIMIT.\n",
      "\n",
      "Increase the number of iterations (max_iter) or scale the data as shown in:\n",
      "    https://scikit-learn.org/stable/modules/preprocessing.html\n",
      "Please also refer to the documentation for alternative solver options:\n",
      "    https://scikit-learn.org/stable/modules/linear_model.html#logistic-regression\n",
      "  n_iter_i = _check_optimize_result(\n",
      "/export/d1/zwangjz/anaconda3/envs/lewis/lib/python3.9/site-packages/sklearn/linear_model/_logistic.py:469: ConvergenceWarning: lbfgs failed to converge (status=1):\n",
      "STOP: TOTAL NO. of ITERATIONS REACHED LIMIT.\n",
      "\n",
      "Increase the number of iterations (max_iter) or scale the data as shown in:\n",
      "    https://scikit-learn.org/stable/modules/preprocessing.html\n",
      "Please also refer to the documentation for alternative solver options:\n",
      "    https://scikit-learn.org/stable/modules/linear_model.html#logistic-regression\n",
      "  n_iter_i = _check_optimize_result(\n",
      "/export/d1/zwangjz/anaconda3/envs/lewis/lib/python3.9/site-packages/sklearn/linear_model/_logistic.py:469: ConvergenceWarning: lbfgs failed to converge (status=1):\n",
      "STOP: TOTAL NO. of ITERATIONS REACHED LIMIT.\n",
      "\n",
      "Increase the number of iterations (max_iter) or scale the data as shown in:\n",
      "    https://scikit-learn.org/stable/modules/preprocessing.html\n",
      "Please also refer to the documentation for alternative solver options:\n",
      "    https://scikit-learn.org/stable/modules/linear_model.html#logistic-regression\n",
      "  n_iter_i = _check_optimize_result(\n",
      "/export/d1/zwangjz/anaconda3/envs/lewis/lib/python3.9/site-packages/sklearn/linear_model/_logistic.py:469: ConvergenceWarning: lbfgs failed to converge (status=1):\n",
      "STOP: TOTAL NO. of ITERATIONS REACHED LIMIT.\n",
      "\n",
      "Increase the number of iterations (max_iter) or scale the data as shown in:\n",
      "    https://scikit-learn.org/stable/modules/preprocessing.html\n",
      "Please also refer to the documentation for alternative solver options:\n",
      "    https://scikit-learn.org/stable/modules/linear_model.html#logistic-regression\n",
      "  n_iter_i = _check_optimize_result(\n",
      "/export/d1/zwangjz/anaconda3/envs/lewis/lib/python3.9/site-packages/sklearn/linear_model/_logistic.py:469: ConvergenceWarning: lbfgs failed to converge (status=1):\n",
      "STOP: TOTAL NO. of ITERATIONS REACHED LIMIT.\n",
      "\n",
      "Increase the number of iterations (max_iter) or scale the data as shown in:\n",
      "    https://scikit-learn.org/stable/modules/preprocessing.html\n",
      "Please also refer to the documentation for alternative solver options:\n",
      "    https://scikit-learn.org/stable/modules/linear_model.html#logistic-regression\n",
      "  n_iter_i = _check_optimize_result(\n",
      "/export/d1/zwangjz/anaconda3/envs/lewis/lib/python3.9/site-packages/sklearn/linear_model/_logistic.py:469: ConvergenceWarning: lbfgs failed to converge (status=1):\n",
      "STOP: TOTAL NO. of ITERATIONS REACHED LIMIT.\n",
      "\n",
      "Increase the number of iterations (max_iter) or scale the data as shown in:\n",
      "    https://scikit-learn.org/stable/modules/preprocessing.html\n",
      "Please also refer to the documentation for alternative solver options:\n",
      "    https://scikit-learn.org/stable/modules/linear_model.html#logistic-regression\n",
      "  n_iter_i = _check_optimize_result(\n",
      "/export/d1/zwangjz/anaconda3/envs/lewis/lib/python3.9/site-packages/sklearn/linear_model/_logistic.py:469: ConvergenceWarning: lbfgs failed to converge (status=1):\n",
      "STOP: TOTAL NO. of ITERATIONS REACHED LIMIT.\n",
      "\n",
      "Increase the number of iterations (max_iter) or scale the data as shown in:\n",
      "    https://scikit-learn.org/stable/modules/preprocessing.html\n",
      "Please also refer to the documentation for alternative solver options:\n",
      "    https://scikit-learn.org/stable/modules/linear_model.html#logistic-regression\n",
      "  n_iter_i = _check_optimize_result(\n",
      "/export/d1/zwangjz/anaconda3/envs/lewis/lib/python3.9/site-packages/sklearn/linear_model/_logistic.py:469: ConvergenceWarning: lbfgs failed to converge (status=1):\n",
      "STOP: TOTAL NO. of ITERATIONS REACHED LIMIT.\n",
      "\n",
      "Increase the number of iterations (max_iter) or scale the data as shown in:\n",
      "    https://scikit-learn.org/stable/modules/preprocessing.html\n",
      "Please also refer to the documentation for alternative solver options:\n",
      "    https://scikit-learn.org/stable/modules/linear_model.html#logistic-regression\n",
      "  n_iter_i = _check_optimize_result(\n",
      "/export/d1/zwangjz/anaconda3/envs/lewis/lib/python3.9/site-packages/sklearn/linear_model/_logistic.py:469: ConvergenceWarning: lbfgs failed to converge (status=1):\n",
      "STOP: TOTAL NO. of ITERATIONS REACHED LIMIT.\n",
      "\n",
      "Increase the number of iterations (max_iter) or scale the data as shown in:\n",
      "    https://scikit-learn.org/stable/modules/preprocessing.html\n",
      "Please also refer to the documentation for alternative solver options:\n",
      "    https://scikit-learn.org/stable/modules/linear_model.html#logistic-regression\n",
      "  n_iter_i = _check_optimize_result(\n",
      "/export/d1/zwangjz/anaconda3/envs/lewis/lib/python3.9/site-packages/sklearn/linear_model/_logistic.py:469: ConvergenceWarning: lbfgs failed to converge (status=1):\n",
      "STOP: TOTAL NO. of ITERATIONS REACHED LIMIT.\n",
      "\n",
      "Increase the number of iterations (max_iter) or scale the data as shown in:\n",
      "    https://scikit-learn.org/stable/modules/preprocessing.html\n",
      "Please also refer to the documentation for alternative solver options:\n",
      "    https://scikit-learn.org/stable/modules/linear_model.html#logistic-regression\n",
      "  n_iter_i = _check_optimize_result(\n",
      "/export/d1/zwangjz/anaconda3/envs/lewis/lib/python3.9/site-packages/sklearn/linear_model/_logistic.py:469: ConvergenceWarning: lbfgs failed to converge (status=1):\n",
      "STOP: TOTAL NO. of ITERATIONS REACHED LIMIT.\n",
      "\n",
      "Increase the number of iterations (max_iter) or scale the data as shown in:\n",
      "    https://scikit-learn.org/stable/modules/preprocessing.html\n",
      "Please also refer to the documentation for alternative solver options:\n",
      "    https://scikit-learn.org/stable/modules/linear_model.html#logistic-regression\n",
      "  n_iter_i = _check_optimize_result(\n",
      "/export/d1/zwangjz/anaconda3/envs/lewis/lib/python3.9/site-packages/sklearn/linear_model/_logistic.py:469: ConvergenceWarning: lbfgs failed to converge (status=1):\n",
      "STOP: TOTAL NO. of ITERATIONS REACHED LIMIT.\n",
      "\n",
      "Increase the number of iterations (max_iter) or scale the data as shown in:\n",
      "    https://scikit-learn.org/stable/modules/preprocessing.html\n",
      "Please also refer to the documentation for alternative solver options:\n",
      "    https://scikit-learn.org/stable/modules/linear_model.html#logistic-regression\n",
      "  n_iter_i = _check_optimize_result(\n",
      "/export/d1/zwangjz/anaconda3/envs/lewis/lib/python3.9/site-packages/sklearn/linear_model/_logistic.py:469: ConvergenceWarning: lbfgs failed to converge (status=1):\n",
      "STOP: TOTAL NO. of ITERATIONS REACHED LIMIT.\n",
      "\n",
      "Increase the number of iterations (max_iter) or scale the data as shown in:\n",
      "    https://scikit-learn.org/stable/modules/preprocessing.html\n",
      "Please also refer to the documentation for alternative solver options:\n",
      "    https://scikit-learn.org/stable/modules/linear_model.html#logistic-regression\n",
      "  n_iter_i = _check_optimize_result(\n",
      "/export/d1/zwangjz/anaconda3/envs/lewis/lib/python3.9/site-packages/sklearn/linear_model/_logistic.py:469: ConvergenceWarning: lbfgs failed to converge (status=1):\n",
      "STOP: TOTAL NO. of ITERATIONS REACHED LIMIT.\n",
      "\n",
      "Increase the number of iterations (max_iter) or scale the data as shown in:\n",
      "    https://scikit-learn.org/stable/modules/preprocessing.html\n",
      "Please also refer to the documentation for alternative solver options:\n",
      "    https://scikit-learn.org/stable/modules/linear_model.html#logistic-regression\n",
      "  n_iter_i = _check_optimize_result(\n",
      "/export/d1/zwangjz/anaconda3/envs/lewis/lib/python3.9/site-packages/sklearn/linear_model/_logistic.py:469: ConvergenceWarning: lbfgs failed to converge (status=1):\n",
      "STOP: TOTAL NO. of ITERATIONS REACHED LIMIT.\n",
      "\n",
      "Increase the number of iterations (max_iter) or scale the data as shown in:\n",
      "    https://scikit-learn.org/stable/modules/preprocessing.html\n",
      "Please also refer to the documentation for alternative solver options:\n",
      "    https://scikit-learn.org/stable/modules/linear_model.html#logistic-regression\n",
      "  n_iter_i = _check_optimize_result(\n"
     ]
    },
    {
     "data": {
      "text/plain": [
       "['X14', 'X18', 'X22', 'X23', 'X4', 'X5']"
      ]
     },
     "execution_count": 57,
     "metadata": {},
     "output_type": "execute_result"
    }
   ],
   "source": [
    "feature_keys = list(non_descendant_dict.keys())\n",
    "non_descendant_dict_save = {}\n",
    "print(feature_keys)\n",
    "\n",
    "for feat in feature_keys:\n",
    "    if feat == \"Y\":\n",
    "        continue\n",
    "    conditional_features = copy.deepcopy(non_descendant_dict[feat])\n",
    "    conditional_features.append(feat)\n",
    "    if \"Y\" in conditional_features:\n",
    "        conditional_features.remove(\"Y\")\n",
    "    conditional_features.sort()\n",
    "\n",
    "    non_descendant_dict_save[feat] = conditional_features\n",
    "\n",
    "    X = data[conditional_features]\n",
    "    y = data[\"Y\"]\n",
    "\n",
    "    clf = LogisticRegression(random_state=0).fit(X, y)\n",
    "\n",
    "    # # accuracy\n",
    "    # print(clf.score(X, y))\n",
    "    # save weitghts and intercept to file for rust code to read\n",
    "    weights = clf.coef_[0]\n",
    "    intercept = clf.intercept_[0]\n",
    "\n",
    "    if not os.path.exists(\"weights\"):\n",
    "        os.makedirs(\"weights\")\n",
    "    \n",
    "    with open(f\"weights/{feat}.txt\", \"w\") as f:\n",
    "        f.write(str(intercept) + \"\\n\")\n",
    "        for weight in weights:\n",
    "            f.write(str(weight) + \"\\n\")\n",
    "\n",
    "# save non_descendant_dict to file\n",
    "import json\n",
    "\n",
    "with open(\"non_descendant_dict.json\", \"w\") as f:\n",
    "    json.dump(non_descendant_dict_save, f)\n",
    "\n",
    "conditional_features"
   ]
  },
  {
   "cell_type": "code",
   "execution_count": 51,
   "metadata": {},
   "outputs": [
    {
     "name": "stdout",
     "output_type": "stream",
     "text": [
      "[[ 1.38979352e-06 -3.72666586e-05 -1.18775691e-05 -8.74010950e-06\n",
      "  -3.41128277e-01 -1.16641876e-02]]\n"
     ]
    }
   ],
   "source": [
    "print(weights)"
   ]
  },
  {
   "cell_type": "code",
   "execution_count": 31,
   "metadata": {},
   "outputs": [],
   "source": [
    "X_train = data[conditional_features]\n",
    "Y_train = data['Y']"
   ]
  },
  {
   "cell_type": "code",
   "execution_count": 33,
   "metadata": {},
   "outputs": [
    {
     "name": "stdout",
     "output_type": "stream",
     "text": [
      "[[-5.06188232e-06  3.08184684e-05  2.88365076e-05 -7.77507109e-06\n",
      "  -1.47861454e-07  2.43724832e-06  3.72732627e-06  2.41372119e-06\n",
      "   3.86082865e-06 -3.79821686e-05 -2.65914366e-05 -3.90853894e-05\n",
      "  -1.43958857e-05 -1.07648901e-05 -1.02309045e-05  4.05766787e-07\n",
      "  -4.83249025e-05 -4.09141596e-05 -6.93044667e-04  5.07898286e-05\n",
      "   3.94276362e-05  3.47980811e-05  3.27936511e-05]]\n",
      "[-2.25021567e-05]\n"
     ]
    },
    {
     "name": "stderr",
     "output_type": "stream",
     "text": [
      "/export/d1/zwangjz/anaconda3/envs/lewis/lib/python3.9/site-packages/sklearn/linear_model/_logistic.py:469: ConvergenceWarning: lbfgs failed to converge (status=1):\n",
      "STOP: TOTAL NO. of ITERATIONS REACHED LIMIT.\n",
      "\n",
      "Increase the number of iterations (max_iter) or scale the data as shown in:\n",
      "    https://scikit-learn.org/stable/modules/preprocessing.html\n",
      "Please also refer to the documentation for alternative solver options:\n",
      "    https://scikit-learn.org/stable/modules/linear_model.html#logistic-regression\n",
      "  n_iter_i = _check_optimize_result(\n"
     ]
    }
   ],
   "source": [
    "# Train the model\n",
    "clf = LogisticRegression(random_state=0).fit(X_train, Y_train)\n",
    "\n",
    "# Get the parameters\n",
    "print(clf.coef_)\n",
    "print(clf.intercept_)\n"
   ]
  },
  {
   "cell_type": "code",
   "execution_count": null,
   "metadata": {},
   "outputs": [],
   "source": [
    "cur_data = data.drop('default', axis=1)"
   ]
  }
 ],
 "metadata": {
  "kernelspec": {
   "display_name": "lewis",
   "language": "python",
   "name": "python3"
  },
  "language_info": {
   "codemirror_mode": {
    "name": "ipython",
    "version": 3
   },
   "file_extension": ".py",
   "mimetype": "text/x-python",
   "name": "python",
   "nbconvert_exporter": "python",
   "pygments_lexer": "ipython3",
   "version": "3.9.19"
  }
 },
 "nbformat": 4,
 "nbformat_minor": 2
}
